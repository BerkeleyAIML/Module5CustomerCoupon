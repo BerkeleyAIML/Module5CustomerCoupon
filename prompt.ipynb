{
 "cells": [
  {
   "cell_type": "markdown",
   "metadata": {},
   "source": [
    "### Will a Customer Accept the Coupon?\n",
    "\n",
    "**Context**\n",
    "\n",
    "Imagine driving through town and a coupon is delivered to your cell phone for a restaraunt near where you are driving. Would you accept that coupon and take a short detour to the restaraunt? Would you accept the coupon but use it on a sunbsequent trip? Would you ignore the coupon entirely? What if the coupon was for a bar instead of a restaraunt? What about a coffee house? Would you accept a bar coupon with a minor passenger in the car? What about if it was just you and your partner in the car? Would weather impact the rate of acceptance? What about the time of day?\n",
    "\n",
    "Obviously, proximity to the business is a factor on whether the coupon is delivered to the driver or not, but what are the factors that determine whether a driver accepts the coupon once it is delivered to them? How would you determine whether a driver is likely to accept a coupon?\n",
    "\n",
    "**Overview**\n",
    "\n",
    "The goal of this project is to use what you know about visualizations and probability distributions to distinguish between customers who accepted a driving coupon versus those that did not.\n",
    "\n",
    "**Data**\n",
    "\n",
    "This data comes to us from the UCI Machine Learning repository and was collected via a survey on Amazon Mechanical Turk. The survey describes different driving scenarios including the destination, current time, weather, passenger, etc., and then ask the person whether he will accept the coupon if he is the driver. Answers that the user will drive there ‘right away’ or ‘later before the coupon expires’ are labeled as ‘Y = 1’ and answers ‘no, I do not want the coupon’ are labeled as ‘Y = 0’.  There are five different types of coupons -- less expensive restaurants (under \\\\$20), coffee houses, carry out & take away, bar, and more expensive restaurants (\\\\$20 - \\\\$50). "
   ]
  },
  {
   "cell_type": "markdown",
   "metadata": {},
   "source": [
    "**Deliverables**\n",
    "\n",
    "Your final product should be a brief report that highlights the differences between customers who did and did not accept the coupons.  To explore the data you will utilize your knowledge of plotting, statistical summaries, and visualization using Python. You will publish your findings in a public facing github repository as your first portfolio piece. \n",
    "\n",
    "\n",
    "\n"
   ]
  },
  {
   "cell_type": "markdown",
   "metadata": {},
   "source": [
    "### Data Description\n",
    "Keep in mind that these values mentioned below are average values.\n",
    "\n",
    "The attributes of this data set include:\n",
    "1. User attributes\n",
    "    -  Gender: male, female\n",
    "    -  Age: below 21, 21 to 25, 26 to 30, etc.\n",
    "    -  Marital Status: single, married partner, unmarried partner, or widowed\n",
    "    -  Number of children: 0, 1, or more than 1\n",
    "    -  Education: high school, bachelors degree, associates degree, or graduate degree\n",
    "    -  Occupation: architecture & engineering, business & financial, etc.\n",
    "    -  Annual income: less than \\\\$12500, \\\\$12500 - \\\\$24999, \\\\$25000 - \\\\$37499, etc.\n",
    "    -  Number of times that he/she goes to a bar: 0, less than 1, 1 to 3, 4 to 8 or greater than 8\n",
    "    -  Number of times that he/she buys takeaway food: 0, less than 1, 1 to 3, 4 to 8 or greater\n",
    "    than 8\n",
    "    -  Number of times that he/she goes to a coffee house: 0, less than 1, 1 to 3, 4 to 8 or\n",
    "    greater than 8\n",
    "    -  Number of times that he/she eats at a restaurant with average expense less than \\\\$20 per\n",
    "    person: 0, less than 1, 1 to 3, 4 to 8 or greater than 8\n",
    "    -  Number of times that he/she goes to a bar: 0, less than 1, 1 to 3, 4 to 8 or greater than 8\n",
    "    \n",
    "\n",
    "2. Contextual attributes\n",
    "    - Driving destination: home, work, or no urgent destination\n",
    "    - Location of user, coupon and destination: we provide a map to show the geographical\n",
    "    location of the user, destination, and the venue, and we mark the distance between each\n",
    "    two places with time of driving. The user can see whether the venue is in the same\n",
    "    direction as the destination.\n",
    "    - Weather: sunny, rainy, or snowy\n",
    "    - Temperature: 30F, 55F, or 80F\n",
    "    - Time: 10AM, 2PM, or 6PM\n",
    "    - Passenger: alone, partner, kid(s), or friend(s)\n",
    "\n",
    "\n",
    "3. Coupon attributes\n",
    "    - time before it expires: 2 hours or one day"
   ]
  },
  {
   "cell_type": "code",
   "execution_count": 83,
   "metadata": {
    "ExecuteTime": {
     "end_time": "2024-03-17T10:15:00.420753Z",
     "start_time": "2024-03-17T10:15:00.417386Z"
    }
   },
   "outputs": [],
   "source": [
    "import matplotlib.pyplot as plt\n",
    "import seaborn as sns\n",
    "import pandas as pd\n",
    "import numpy as np"
   ]
  },
  {
   "cell_type": "markdown",
   "metadata": {},
   "source": [
    "### Problems\n",
    "\n",
    "Use the prompts below to get started with your data analysis.  \n",
    "\n",
    "1. Read in the `coupons.csv` file.\n",
    "\n",
    "\n"
   ]
  },
  {
   "cell_type": "code",
   "execution_count": 84,
   "metadata": {
    "collapsed": false,
    "ExecuteTime": {
     "end_time": "2024-03-17T10:15:00.538931Z",
     "start_time": "2024-03-17T10:15:00.505759Z"
    }
   },
   "outputs": [],
   "source": [
    "data = pd.read_csv('data/coupons.csv')"
   ]
  },
  {
   "cell_type": "code",
   "outputs": [
    {
     "data": {
      "text/plain": "        destination  passanger weather  temperature  time  \\\n0   No Urgent Place      Alone   Sunny           55   2PM   \n1   No Urgent Place  Friend(s)   Sunny           80  10AM   \n2   No Urgent Place  Friend(s)   Sunny           80  10AM   \n3   No Urgent Place  Friend(s)   Sunny           80   2PM   \n4   No Urgent Place  Friend(s)   Sunny           80   2PM   \n..              ...        ...     ...          ...   ...   \n95  No Urgent Place  Friend(s)   Sunny           80   2PM   \n96  No Urgent Place  Friend(s)   Sunny           80   6PM   \n97  No Urgent Place  Friend(s)   Sunny           80   6PM   \n98  No Urgent Place  Friend(s)   Sunny           55   2PM   \n99  No Urgent Place  Friend(s)   Sunny           55   2PM   \n\n                   coupon expiration  gender age      maritalStatus  ...  \\\n0         Restaurant(<20)         1d  Female  21  Unmarried partner  ...   \n1            Coffee House         2h  Female  21  Unmarried partner  ...   \n2   Carry out & Take away         2h  Female  21  Unmarried partner  ...   \n3            Coffee House         2h  Female  21  Unmarried partner  ...   \n4            Coffee House         1d  Female  21  Unmarried partner  ...   \n..                    ...        ...     ...  ..                ...  ...   \n95        Restaurant(<20)         1d    Male  21             Single  ...   \n96           Coffee House         2h    Male  21             Single  ...   \n97        Restaurant(<20)         2h    Male  21             Single  ...   \n98           Coffee House         2h    Male  21             Single  ...   \n99  Carry out & Take away         1d    Male  21             Single  ...   \n\n    CoffeeHouse CarryAway RestaurantLessThan20 Restaurant20To50  \\\n0         never       NaN                  4~8              1~3   \n1         never       NaN                  4~8              1~3   \n2         never       NaN                  4~8              1~3   \n3         never       NaN                  4~8              1~3   \n4         never       NaN                  4~8              1~3   \n..          ...       ...                  ...              ...   \n95        less1       1~3                less1              1~3   \n96        less1       1~3                less1              1~3   \n97        less1       1~3                less1              1~3   \n98        less1       1~3                less1              1~3   \n99        less1       1~3                less1              1~3   \n\n   toCoupon_GEQ5min toCoupon_GEQ15min toCoupon_GEQ25min direction_same  \\\n0                 1                 0                 0              0   \n1                 1                 0                 0              0   \n2                 1                 1                 0              0   \n3                 1                 1                 0              0   \n4                 1                 1                 0              0   \n..              ...               ...               ...            ...   \n95                1                 1                 0              0   \n96                1                 0                 0              0   \n97                1                 1                 0              0   \n98                1                 0                 0              0   \n99                1                 1                 0              0   \n\n   direction_opp  Y  \n0              1  1  \n1              1  0  \n2              1  1  \n3              1  0  \n4              1  0  \n..           ... ..  \n95             1  1  \n96             1  1  \n97             1  1  \n98             1  1  \n99             1  1  \n\n[100 rows x 26 columns]",
      "text/html": "<div>\n<style scoped>\n    .dataframe tbody tr th:only-of-type {\n        vertical-align: middle;\n    }\n\n    .dataframe tbody tr th {\n        vertical-align: top;\n    }\n\n    .dataframe thead th {\n        text-align: right;\n    }\n</style>\n<table border=\"1\" class=\"dataframe\">\n  <thead>\n    <tr style=\"text-align: right;\">\n      <th></th>\n      <th>destination</th>\n      <th>passanger</th>\n      <th>weather</th>\n      <th>temperature</th>\n      <th>time</th>\n      <th>coupon</th>\n      <th>expiration</th>\n      <th>gender</th>\n      <th>age</th>\n      <th>maritalStatus</th>\n      <th>...</th>\n      <th>CoffeeHouse</th>\n      <th>CarryAway</th>\n      <th>RestaurantLessThan20</th>\n      <th>Restaurant20To50</th>\n      <th>toCoupon_GEQ5min</th>\n      <th>toCoupon_GEQ15min</th>\n      <th>toCoupon_GEQ25min</th>\n      <th>direction_same</th>\n      <th>direction_opp</th>\n      <th>Y</th>\n    </tr>\n  </thead>\n  <tbody>\n    <tr>\n      <th>0</th>\n      <td>No Urgent Place</td>\n      <td>Alone</td>\n      <td>Sunny</td>\n      <td>55</td>\n      <td>2PM</td>\n      <td>Restaurant(&lt;20)</td>\n      <td>1d</td>\n      <td>Female</td>\n      <td>21</td>\n      <td>Unmarried partner</td>\n      <td>...</td>\n      <td>never</td>\n      <td>NaN</td>\n      <td>4~8</td>\n      <td>1~3</td>\n      <td>1</td>\n      <td>0</td>\n      <td>0</td>\n      <td>0</td>\n      <td>1</td>\n      <td>1</td>\n    </tr>\n    <tr>\n      <th>1</th>\n      <td>No Urgent Place</td>\n      <td>Friend(s)</td>\n      <td>Sunny</td>\n      <td>80</td>\n      <td>10AM</td>\n      <td>Coffee House</td>\n      <td>2h</td>\n      <td>Female</td>\n      <td>21</td>\n      <td>Unmarried partner</td>\n      <td>...</td>\n      <td>never</td>\n      <td>NaN</td>\n      <td>4~8</td>\n      <td>1~3</td>\n      <td>1</td>\n      <td>0</td>\n      <td>0</td>\n      <td>0</td>\n      <td>1</td>\n      <td>0</td>\n    </tr>\n    <tr>\n      <th>2</th>\n      <td>No Urgent Place</td>\n      <td>Friend(s)</td>\n      <td>Sunny</td>\n      <td>80</td>\n      <td>10AM</td>\n      <td>Carry out &amp; Take away</td>\n      <td>2h</td>\n      <td>Female</td>\n      <td>21</td>\n      <td>Unmarried partner</td>\n      <td>...</td>\n      <td>never</td>\n      <td>NaN</td>\n      <td>4~8</td>\n      <td>1~3</td>\n      <td>1</td>\n      <td>1</td>\n      <td>0</td>\n      <td>0</td>\n      <td>1</td>\n      <td>1</td>\n    </tr>\n    <tr>\n      <th>3</th>\n      <td>No Urgent Place</td>\n      <td>Friend(s)</td>\n      <td>Sunny</td>\n      <td>80</td>\n      <td>2PM</td>\n      <td>Coffee House</td>\n      <td>2h</td>\n      <td>Female</td>\n      <td>21</td>\n      <td>Unmarried partner</td>\n      <td>...</td>\n      <td>never</td>\n      <td>NaN</td>\n      <td>4~8</td>\n      <td>1~3</td>\n      <td>1</td>\n      <td>1</td>\n      <td>0</td>\n      <td>0</td>\n      <td>1</td>\n      <td>0</td>\n    </tr>\n    <tr>\n      <th>4</th>\n      <td>No Urgent Place</td>\n      <td>Friend(s)</td>\n      <td>Sunny</td>\n      <td>80</td>\n      <td>2PM</td>\n      <td>Coffee House</td>\n      <td>1d</td>\n      <td>Female</td>\n      <td>21</td>\n      <td>Unmarried partner</td>\n      <td>...</td>\n      <td>never</td>\n      <td>NaN</td>\n      <td>4~8</td>\n      <td>1~3</td>\n      <td>1</td>\n      <td>1</td>\n      <td>0</td>\n      <td>0</td>\n      <td>1</td>\n      <td>0</td>\n    </tr>\n    <tr>\n      <th>...</th>\n      <td>...</td>\n      <td>...</td>\n      <td>...</td>\n      <td>...</td>\n      <td>...</td>\n      <td>...</td>\n      <td>...</td>\n      <td>...</td>\n      <td>...</td>\n      <td>...</td>\n      <td>...</td>\n      <td>...</td>\n      <td>...</td>\n      <td>...</td>\n      <td>...</td>\n      <td>...</td>\n      <td>...</td>\n      <td>...</td>\n      <td>...</td>\n      <td>...</td>\n      <td>...</td>\n    </tr>\n    <tr>\n      <th>95</th>\n      <td>No Urgent Place</td>\n      <td>Friend(s)</td>\n      <td>Sunny</td>\n      <td>80</td>\n      <td>2PM</td>\n      <td>Restaurant(&lt;20)</td>\n      <td>1d</td>\n      <td>Male</td>\n      <td>21</td>\n      <td>Single</td>\n      <td>...</td>\n      <td>less1</td>\n      <td>1~3</td>\n      <td>less1</td>\n      <td>1~3</td>\n      <td>1</td>\n      <td>1</td>\n      <td>0</td>\n      <td>0</td>\n      <td>1</td>\n      <td>1</td>\n    </tr>\n    <tr>\n      <th>96</th>\n      <td>No Urgent Place</td>\n      <td>Friend(s)</td>\n      <td>Sunny</td>\n      <td>80</td>\n      <td>6PM</td>\n      <td>Coffee House</td>\n      <td>2h</td>\n      <td>Male</td>\n      <td>21</td>\n      <td>Single</td>\n      <td>...</td>\n      <td>less1</td>\n      <td>1~3</td>\n      <td>less1</td>\n      <td>1~3</td>\n      <td>1</td>\n      <td>0</td>\n      <td>0</td>\n      <td>0</td>\n      <td>1</td>\n      <td>1</td>\n    </tr>\n    <tr>\n      <th>97</th>\n      <td>No Urgent Place</td>\n      <td>Friend(s)</td>\n      <td>Sunny</td>\n      <td>80</td>\n      <td>6PM</td>\n      <td>Restaurant(&lt;20)</td>\n      <td>2h</td>\n      <td>Male</td>\n      <td>21</td>\n      <td>Single</td>\n      <td>...</td>\n      <td>less1</td>\n      <td>1~3</td>\n      <td>less1</td>\n      <td>1~3</td>\n      <td>1</td>\n      <td>1</td>\n      <td>0</td>\n      <td>0</td>\n      <td>1</td>\n      <td>1</td>\n    </tr>\n    <tr>\n      <th>98</th>\n      <td>No Urgent Place</td>\n      <td>Friend(s)</td>\n      <td>Sunny</td>\n      <td>55</td>\n      <td>2PM</td>\n      <td>Coffee House</td>\n      <td>2h</td>\n      <td>Male</td>\n      <td>21</td>\n      <td>Single</td>\n      <td>...</td>\n      <td>less1</td>\n      <td>1~3</td>\n      <td>less1</td>\n      <td>1~3</td>\n      <td>1</td>\n      <td>0</td>\n      <td>0</td>\n      <td>0</td>\n      <td>1</td>\n      <td>1</td>\n    </tr>\n    <tr>\n      <th>99</th>\n      <td>No Urgent Place</td>\n      <td>Friend(s)</td>\n      <td>Sunny</td>\n      <td>55</td>\n      <td>2PM</td>\n      <td>Carry out &amp; Take away</td>\n      <td>1d</td>\n      <td>Male</td>\n      <td>21</td>\n      <td>Single</td>\n      <td>...</td>\n      <td>less1</td>\n      <td>1~3</td>\n      <td>less1</td>\n      <td>1~3</td>\n      <td>1</td>\n      <td>1</td>\n      <td>0</td>\n      <td>0</td>\n      <td>1</td>\n      <td>1</td>\n    </tr>\n  </tbody>\n</table>\n<p>100 rows × 26 columns</p>\n</div>"
     },
     "execution_count": 85,
     "metadata": {},
     "output_type": "execute_result"
    }
   ],
   "source": [
    "data.head(100)"
   ],
   "metadata": {
    "ExecuteTime": {
     "end_time": "2024-03-17T10:15:00.557384Z",
     "start_time": "2024-03-17T10:15:00.540938Z"
    }
   },
   "execution_count": 85
  },
  {
   "cell_type": "code",
   "execution_count": 86,
   "metadata": {
    "ExecuteTime": {
     "end_time": "2024-03-17T10:15:00.577214Z",
     "start_time": "2024-03-17T10:15:00.558392Z"
    }
   },
   "outputs": [
    {
     "name": "stdout",
     "output_type": "stream",
     "text": [
      "destination                 0\n",
      "passanger                   0\n",
      "weather                     0\n",
      "temperature                 0\n",
      "time                        0\n",
      "coupon                      0\n",
      "expiration                  0\n",
      "gender                      0\n",
      "age                         0\n",
      "maritalStatus               0\n",
      "has_children                0\n",
      "education                   0\n",
      "occupation                  0\n",
      "income                      0\n",
      "car                     12576\n",
      "Bar                       107\n",
      "CoffeeHouse               217\n",
      "CarryAway                 151\n",
      "RestaurantLessThan20      130\n",
      "Restaurant20To50          189\n",
      "toCoupon_GEQ5min            0\n",
      "toCoupon_GEQ15min           0\n",
      "toCoupon_GEQ25min           0\n",
      "direction_same              0\n",
      "direction_opp               0\n",
      "Y                           0\n",
      "dtype: int64\n",
      "-------------------\n",
      "destination             12684\n",
      "passanger               12684\n",
      "weather                 12684\n",
      "temperature             12684\n",
      "time                    12684\n",
      "coupon                  12684\n",
      "expiration              12684\n",
      "gender                  12684\n",
      "age                     12684\n",
      "maritalStatus           12684\n",
      "has_children            12684\n",
      "education               12684\n",
      "occupation              12684\n",
      "income                  12684\n",
      "car                       108\n",
      "Bar                     12577\n",
      "CoffeeHouse             12467\n",
      "CarryAway               12533\n",
      "RestaurantLessThan20    12554\n",
      "Restaurant20To50        12495\n",
      "toCoupon_GEQ5min        12684\n",
      "toCoupon_GEQ15min       12684\n",
      "toCoupon_GEQ25min       12684\n",
      "direction_same          12684\n",
      "direction_opp           12684\n",
      "Y                       12684\n",
      "dtype: int64\n"
     ]
    }
   ],
   "source": [
    "\n",
    "null_data = data.isnull().sum()\n",
    "non_null_data = data.notnull().sum()\n",
    "\n",
    "print(null_data)\n",
    "print('-------------------')\n",
    "print(non_null_data)\n",
    "\n"
   ]
  },
  {
   "cell_type": "markdown",
   "metadata": {},
   "source": [
    "2. Investigate the dataset for missing or problematic data."
   ]
  },
  {
   "cell_type": "code",
   "execution_count": 87,
   "metadata": {
    "ExecuteTime": {
     "end_time": "2024-03-17T10:15:00.941725Z",
     "start_time": "2024-03-17T10:15:00.595220Z"
    }
   },
   "outputs": [
    {
     "name": "stdout",
     "output_type": "stream",
     "text": [
      "<class 'pandas.core.frame.DataFrame'>\n",
      "RangeIndex: 12684 entries, 0 to 12683\n",
      "Data columns (total 26 columns):\n",
      " #   Column                Non-Null Count  Dtype \n",
      "---  ------                --------------  ----- \n",
      " 0   destination           12684 non-null  object\n",
      " 1   passanger             12684 non-null  object\n",
      " 2   weather               12684 non-null  object\n",
      " 3   temperature           12684 non-null  int64 \n",
      " 4   time                  12684 non-null  object\n",
      " 5   coupon                12684 non-null  object\n",
      " 6   expiration            12684 non-null  object\n",
      " 7   gender                12684 non-null  object\n",
      " 8   age                   12684 non-null  object\n",
      " 9   maritalStatus         12684 non-null  object\n",
      " 10  has_children          12684 non-null  int64 \n",
      " 11  education             12684 non-null  object\n",
      " 12  occupation            12684 non-null  object\n",
      " 13  income                12684 non-null  object\n",
      " 14  car                   108 non-null    object\n",
      " 15  Bar                   12577 non-null  object\n",
      " 16  CoffeeHouse           12467 non-null  object\n",
      " 17  CarryAway             12533 non-null  object\n",
      " 18  RestaurantLessThan20  12554 non-null  object\n",
      " 19  Restaurant20To50      12495 non-null  object\n",
      " 20  toCoupon_GEQ5min      12684 non-null  int64 \n",
      " 21  toCoupon_GEQ15min     12684 non-null  int64 \n",
      " 22  toCoupon_GEQ25min     12684 non-null  int64 \n",
      " 23  direction_same        12684 non-null  int64 \n",
      " 24  direction_opp         12684 non-null  int64 \n",
      " 25  Y                     12684 non-null  int64 \n",
      "dtypes: int64(8), object(18)\n",
      "memory usage: 2.5+ MB\n"
     ]
    },
    {
     "data": {
      "text/plain": "<Figure size 2000x1000 with 1 Axes>",
      "image/png": "[encoded data removed]"
     },
     "metadata": {},
     "output_type": "display_data"
    }
   ],
   "source": [
    "# Check for missing data or problematic data\n",
    "\n",
    "data.info()\n",
    "# Plot missing data columns histogram\n",
    "plt.figure(figsize=(20,10))\n",
    "plt.bar(data.columns, data.isnull().sum())\n",
    "plt.xticks(rotation=90)\n",
    "plt.show()\n",
    "\n",
    "\n"
   ]
  },
  {
   "cell_type": "markdown",
   "metadata": {},
   "source": [
    "3. Decide what to do about your missing data -- drop, replace, other..."
   ]
  },
  {
   "cell_type": "code",
   "outputs": [
    {
     "name": "stdout",
     "output_type": "stream",
     "text": [
      "['21' '46' '26' '31' '41' '50plus' '36' 'below21']\n",
      "['$37500 - $49999' '$62500 - $74999' '$12500 - $24999' '$75000 - $87499'\n",
      " '$50000 - $62499' '$25000 - $37499' '$100000 or More' '$87500 - $99999'\n",
      " 'Less than $12500']\n"
     ]
    }
   ],
   "source": [
    "# fill in missing data\n",
    "# Drop Car column as it is not relevant to the analysis\n",
    "data = data.drop(columns=['car'])\n",
    "\n",
    "#  List columns having missing data\n",
    "missing_data = data.isnull().sum()\n",
    "missing_data = missing_data[missing_data > 0]\n",
    "missing_data\n",
    "\n",
    "# Fill in data with the mode\n",
    "for column in missing_data.index:\n",
    "    data[column] = data[column].fillna(data[column].mode()[0])\n",
    "    \n",
    "# Check if there are any missing data\n",
    "data.isnull().sum()\n",
    "\n",
    "\n",
    "# print Age column unique values\n",
    "print(data['age'].unique())\n",
    "# Convert Age column to numeric values,\n",
    "data.loc[data['age'] == 'below21', 'age'] = 20\n",
    "data.loc[data['age'] == '21', 'age'] = 21\n",
    "data.loc[data['age'] == '46', 'age'] = 46\n",
    "data.loc[data['age'] == '36', 'age'] = 36\n",
    "data.loc[data['age'] == '26', 'age'] = 26\n",
    "data.loc[data['age'] == '50plus', 'age'] = 50\n",
    "data.loc[data['age'] == '31', 'age'] = 31\n",
    "data.loc[data['age'] == '41', 'age'] = 41\n",
    "\n",
    "\n",
    "#print uniq values of the column income\n",
    "print(data['income'].unique())\n",
    "\n",
    "\n",
    "\n",
    "\n"
   ],
   "metadata": {
    "collapsed": false,
    "ExecuteTime": {
     "end_time": "2024-03-17T10:15:03.323793Z",
     "start_time": "2024-03-17T10:15:03.278967Z"
    }
   },
   "execution_count": 88
  },
  {
   "cell_type": "markdown",
   "metadata": {},
   "source": [
    "4. What proportion of the total observations chose to accept the coupon? \n",
    "\n"
   ]
  },
  {
   "cell_type": "code",
   "execution_count": 35,
   "metadata": {
    "ExecuteTime": {
     "end_time": "2024-03-17T09:32:24.999403Z",
     "start_time": "2024-03-17T09:32:24.839230Z"
    }
   },
   "outputs": [
    {
     "name": "stdout",
     "output_type": "stream",
     "text": [
      "Y\n",
      "1    7210\n",
      "0    5474\n",
      "Name: count, dtype: int64\n",
      "Proportion of the total observations that chose to accept the coupon: 0.5684326710816777\n"
     ]
    },
    {
     "data": {
      "text/plain": "<Figure size 1000x500 with 1 Axes>",
      "image/png": "[encoded data removed]"
     },
     "metadata": {},
     "output_type": "display_data"
    }
   ],
   "source": [
    "# Proportion of the total observations that chose to accept the coupon\n",
    "accepted = data['Y'].value_counts()\n",
    "print(accepted)\n",
    "print('Proportion of the total observations that chose to accept the coupon:', accepted[1]/(accepted[0] + accepted[1]))\n",
    "# Plot histogram of the proportion of the total observations that chose to accept the coupon\n",
    "plt.figure(figsize=(10,5))\n",
    "plt.bar(accepted.index, accepted)\n",
    "plt.show()\n",
    "\n",
    "\n",
    "\n"
   ]
  },
  {
   "cell_type": "markdown",
   "metadata": {},
   "source": [
    "5. Use a bar plot to visualize the `coupon` column."
   ]
  },
  {
   "cell_type": "code",
   "execution_count": 36,
   "metadata": {
    "ExecuteTime": {
     "end_time": "2024-03-17T09:33:01.960929Z",
     "start_time": "2024-03-17T09:33:01.839599Z"
    }
   },
   "outputs": [
    {
     "data": {
      "text/plain": "<Figure size 1000x500 with 1 Axes>",
      "image/png": "[encoded data removed]"
     },
     "metadata": {},
     "output_type": "display_data"
    }
   ],
   "source": [
    "# Bar plot to visualize the coupon column\n",
    "coupon = data['coupon'].value_counts()\n",
    "plt.figure(figsize=(10,5))\n",
    "plt.bar(coupon.index, coupon)\n",
    "plt.show()\n"
   ]
  },
  {
   "cell_type": "markdown",
   "metadata": {},
   "source": [
    "6. Use a histogram to visualize the temperature column."
   ]
  },
  {
   "cell_type": "code",
   "execution_count": 37,
   "metadata": {
    "ExecuteTime": {
     "end_time": "2024-03-17T09:33:19.111858Z",
     "start_time": "2024-03-17T09:33:18.958619Z"
    }
   },
   "outputs": [
    {
     "data": {
      "text/plain": "<Figure size 1000x500 with 1 Axes>",
      "image/png": "[encoded data removed]"
     },
     "metadata": {},
     "output_type": "display_data"
    }
   ],
   "source": [
    "# Histogram to visualize the temperature column\n",
    "plt.figure(figsize=(10,5))\n",
    "plt.hist(data['temperature'])\n",
    "plt.show()\n"
   ]
  },
  {
   "cell_type": "code",
   "execution_count": 24,
   "metadata": {
    "ExecuteTime": {
     "end_time": "2024-03-06T00:12:05.088285Z",
     "start_time": "2024-03-06T00:12:05.085323Z"
    }
   },
   "outputs": [],
   "source": []
  },
  {
   "cell_type": "code",
   "execution_count": 24,
   "metadata": {
    "ExecuteTime": {
     "end_time": "2024-03-06T00:12:05.160058Z",
     "start_time": "2024-03-06T00:12:05.157294Z"
    }
   },
   "outputs": [],
   "source": []
  },
  {
   "cell_type": "code",
   "execution_count": 24,
   "metadata": {
    "ExecuteTime": {
     "end_time": "2024-03-06T00:12:05.173147Z",
     "start_time": "2024-03-06T00:12:05.171066Z"
    }
   },
   "outputs": [],
   "source": []
  },
  {
   "cell_type": "code",
   "execution_count": 24,
   "metadata": {
    "ExecuteTime": {
     "end_time": "2024-03-06T00:12:05.197424Z",
     "start_time": "2024-03-06T00:12:05.194155Z"
    }
   },
   "outputs": [],
   "source": []
  },
  {
   "cell_type": "markdown",
   "metadata": {},
   "source": [
    "**Investigating the Bar Coupons**\n",
    "\n",
    "Now, we will lead you through an exploration of just the bar related coupons.  \n",
    "\n",
    "1. Create a new `DataFrame` that contains just the bar coupons.\n"
   ]
  },
  {
   "cell_type": "code",
   "execution_count": 72,
   "metadata": {
    "ExecuteTime": {
     "end_time": "2024-03-17T09:59:58.855526Z",
     "start_time": "2024-03-17T09:59:58.841134Z"
    }
   },
   "outputs": [
    {
     "data": {
      "text/plain": "        destination  passanger weather  temperature  time coupon expiration  \\\n9   No Urgent Place     Kid(s)   Sunny           80  10AM    Bar         1d   \n13             Home      Alone   Sunny           55   6PM    Bar         1d   \n17             Work      Alone   Sunny           55   7AM    Bar         1d   \n24  No Urgent Place  Friend(s)   Sunny           80  10AM    Bar         1d   \n35             Home      Alone   Sunny           55   6PM    Bar         1d   \n\n    gender age      maritalStatus  ...  CoffeeHouse CarryAway  \\\n9   Female  21  Unmarried partner  ...        never       1~3   \n13  Female  21  Unmarried partner  ...        never       1~3   \n17  Female  21  Unmarried partner  ...        never       1~3   \n24    Male  21             Single  ...        less1       4~8   \n35    Male  21             Single  ...        less1       4~8   \n\n   RestaurantLessThan20 Restaurant20To50 toCoupon_GEQ5min toCoupon_GEQ15min  \\\n9                   4~8              1~3                1                 1   \n13                  4~8              1~3                1                 0   \n17                  4~8              1~3                1                 1   \n24                  4~8            less1                1                 0   \n35                  4~8            less1                1                 0   \n\n   toCoupon_GEQ25min direction_same direction_opp  Y  \n9                  0              0             1  0  \n13                 0              1             0  1  \n17                 1              0             1  0  \n24                 0              0             1  1  \n35                 0              1             0  1  \n\n[5 rows x 25 columns]",
      "text/html": "<div>\n<style scoped>\n    .dataframe tbody tr th:only-of-type {\n        vertical-align: middle;\n    }\n\n    .dataframe tbody tr th {\n        vertical-align: top;\n    }\n\n    .dataframe thead th {\n        text-align: right;\n    }\n</style>\n<table border=\"1\" class=\"dataframe\">\n  <thead>\n    <tr style=\"text-align: right;\">\n      <th></th>\n      <th>destination</th>\n      <th>passanger</th>\n      <th>weather</th>\n      <th>temperature</th>\n      <th>time</th>\n      <th>coupon</th>\n      <th>expiration</th>\n      <th>gender</th>\n      <th>age</th>\n      <th>maritalStatus</th>\n      <th>...</th>\n      <th>CoffeeHouse</th>\n      <th>CarryAway</th>\n      <th>RestaurantLessThan20</th>\n      <th>Restaurant20To50</th>\n      <th>toCoupon_GEQ5min</th>\n      <th>toCoupon_GEQ15min</th>\n      <th>toCoupon_GEQ25min</th>\n      <th>direction_same</th>\n      <th>direction_opp</th>\n      <th>Y</th>\n    </tr>\n  </thead>\n  <tbody>\n    <tr>\n      <th>9</th>\n      <td>No Urgent Place</td>\n      <td>Kid(s)</td>\n      <td>Sunny</td>\n      <td>80</td>\n      <td>10AM</td>\n      <td>Bar</td>\n      <td>1d</td>\n      <td>Female</td>\n      <td>21</td>\n      <td>Unmarried partner</td>\n      <td>...</td>\n      <td>never</td>\n      <td>1~3</td>\n      <td>4~8</td>\n      <td>1~3</td>\n      <td>1</td>\n      <td>1</td>\n      <td>0</td>\n      <td>0</td>\n      <td>1</td>\n      <td>0</td>\n    </tr>\n    <tr>\n      <th>13</th>\n      <td>Home</td>\n      <td>Alone</td>\n      <td>Sunny</td>\n      <td>55</td>\n      <td>6PM</td>\n      <td>Bar</td>\n      <td>1d</td>\n      <td>Female</td>\n      <td>21</td>\n      <td>Unmarried partner</td>\n      <td>...</td>\n      <td>never</td>\n      <td>1~3</td>\n      <td>4~8</td>\n      <td>1~3</td>\n      <td>1</td>\n      <td>0</td>\n      <td>0</td>\n      <td>1</td>\n      <td>0</td>\n      <td>1</td>\n    </tr>\n    <tr>\n      <th>17</th>\n      <td>Work</td>\n      <td>Alone</td>\n      <td>Sunny</td>\n      <td>55</td>\n      <td>7AM</td>\n      <td>Bar</td>\n      <td>1d</td>\n      <td>Female</td>\n      <td>21</td>\n      <td>Unmarried partner</td>\n      <td>...</td>\n      <td>never</td>\n      <td>1~3</td>\n      <td>4~8</td>\n      <td>1~3</td>\n      <td>1</td>\n      <td>1</td>\n      <td>1</td>\n      <td>0</td>\n      <td>1</td>\n      <td>0</td>\n    </tr>\n    <tr>\n      <th>24</th>\n      <td>No Urgent Place</td>\n      <td>Friend(s)</td>\n      <td>Sunny</td>\n      <td>80</td>\n      <td>10AM</td>\n      <td>Bar</td>\n      <td>1d</td>\n      <td>Male</td>\n      <td>21</td>\n      <td>Single</td>\n      <td>...</td>\n      <td>less1</td>\n      <td>4~8</td>\n      <td>4~8</td>\n      <td>less1</td>\n      <td>1</td>\n      <td>0</td>\n      <td>0</td>\n      <td>0</td>\n      <td>1</td>\n      <td>1</td>\n    </tr>\n    <tr>\n      <th>35</th>\n      <td>Home</td>\n      <td>Alone</td>\n      <td>Sunny</td>\n      <td>55</td>\n      <td>6PM</td>\n      <td>Bar</td>\n      <td>1d</td>\n      <td>Male</td>\n      <td>21</td>\n      <td>Single</td>\n      <td>...</td>\n      <td>less1</td>\n      <td>4~8</td>\n      <td>4~8</td>\n      <td>less1</td>\n      <td>1</td>\n      <td>0</td>\n      <td>0</td>\n      <td>1</td>\n      <td>0</td>\n      <td>1</td>\n    </tr>\n  </tbody>\n</table>\n<p>5 rows × 25 columns</p>\n</div>"
     },
     "execution_count": 72,
     "metadata": {},
     "output_type": "execute_result"
    }
   ],
   "source": [
    "# Create a new DataFrame that contains just the bar coupons\n",
    "bar_coupons = data[data['coupon'] == 'Bar']\n",
    "bar_coupons.head()\n"
   ]
  },
  {
   "cell_type": "markdown",
   "metadata": {},
   "source": [
    "2. What proportion of bar coupons were accepted?\n"
   ]
  },
  {
   "cell_type": "code",
   "execution_count": 73,
   "metadata": {
    "ExecuteTime": {
     "end_time": "2024-03-17T10:00:04.049191Z",
     "start_time": "2024-03-17T10:00:04.044595Z"
    }
   },
   "outputs": [
    {
     "name": "stdout",
     "output_type": "stream",
     "text": [
      "Y\n",
      "0    1190\n",
      "1     827\n",
      "Name: count, dtype: int64\n",
      "Proportion of bar coupons that were accepted: 0.41001487357461575\n"
     ]
    }
   ],
   "source": [
    "# Proportion of bar coupons that were accepted\n",
    "accepted_bar = bar_coupons['Y'].value_counts()\n",
    "print(accepted_bar)\n",
    "print('Proportion of bar coupons that were accepted:', accepted_bar[1]/(accepted_bar[0] + accepted_bar[1]))\n"
   ]
  },
  {
   "cell_type": "markdown",
   "metadata": {},
   "source": [
    "3. Compare the acceptance rate between those who went to a bar 3 or fewer times a month to those who went more.\n"
   ]
  },
  {
   "cell_type": "code",
   "execution_count": 74,
   "metadata": {
    "ExecuteTime": {
     "end_time": "2024-03-17T10:00:09.020006Z",
     "start_time": "2024-03-17T10:00:09.012483Z"
    }
   },
   "outputs": [
    {
     "name": "stdout",
     "output_type": "stream",
     "text": [
      "Bar\n",
      "never    851\n",
      "less1    570\n",
      "1~3      397\n",
      "4~8      150\n",
      "gt8       49\n",
      "Name: count, dtype: int64\n",
      "Y\n",
      "1    257\n",
      "0    140\n",
      "Name: count, dtype: int64\n",
      "Proportion of bar coupons that were accepted for those who went to a bar 3 or fewer times a month: 0.6473551637279596\n"
     ]
    }
   ],
   "source": [
    "\n",
    "bar_coupons_value_count = bar_coupons['Bar'].value_counts()\n",
    "print(bar_coupons_value_count)\n",
    "# Compare the acceptance rate between those who went to a bar 3 or fewer times a month to those who went more\n",
    "# Coupons Accepted for those who went to a bar 3 or fewer times a month\n",
    "bar_coupons_3_or_fewer = bar_coupons[bar_coupons['Bar'] == '1~3']\n",
    "accepted_bar_3_or_fewer = bar_coupons_3_or_fewer['Y'].value_counts()\n",
    "print(accepted_bar_3_or_fewer)\n",
    "print('Proportion of bar coupons that were accepted for those who went to a bar 3 or fewer times a month:', accepted_bar_3_or_fewer[1]/(accepted_bar_3_or_fewer[0] + accepted_bar_3_or_fewer[1]))\n",
    "\n",
    "\n",
    "\n",
    "\n"
   ]
  },
  {
   "cell_type": "markdown",
   "metadata": {},
   "source": [
    "4. Compare the acceptance rate between drivers who go to a bar more than once a month and are over the age of 25 to the all others.  Is there a difference?\n"
   ]
  },
  {
   "cell_type": "code",
   "execution_count": 76,
   "metadata": {
    "ExecuteTime": {
     "end_time": "2024-03-17T10:00:38.890465Z",
     "start_time": "2024-03-17T10:00:38.880104Z"
    }
   },
   "outputs": [
    {
     "name": "stdout",
     "output_type": "stream",
     "text": [
      "Bar\n",
      "0    851\n",
      "1    570\n",
      "2    397\n",
      "3    150\n",
      "4     49\n",
      "Name: count, dtype: int64\n",
      "Y\n",
      "1    292\n",
      "0    128\n",
      "Name: count, dtype: int64\n",
      "Proportion of bar coupons that were accepted for those who went to a bar more than once a month and are over the age of 25: 0.6952380952380952\n"
     ]
    }
   ],
   "source": [
    "# Convert Bar column to numeric values,\n",
    "bar_coupons.loc[bar_coupons['Bar'] == 'never', 'Bar'] = 0\n",
    "bar_coupons.loc[bar_coupons['Bar'] == 'less1', 'Bar'] = 1\n",
    "bar_coupons.loc[bar_coupons['Bar'] == '1~3', 'Bar'] = 2\n",
    "bar_coupons.loc[bar_coupons['Bar'] == '4~8', 'Bar'] = 3\n",
    "bar_coupons.loc[bar_coupons['Bar'] == 'gt8', 'Bar'] = 4\n",
    "\n",
    "print(bar_coupons['Bar'].value_counts())\n",
    "\n",
    "# Compare the acceptance rate between drivers who go to a bar more than once a month and are over the age of 25 to the all others\n",
    "# Coupons Accepted for those who went to a bar more than once a month and are over the age of 25\n",
    "bar_coupons_gt1 = bar_coupons[(bar_coupons['Bar'] > 1) & (bar_coupons['age'] > 25)]\n",
    "accepted_bar_gt1 = bar_coupons_gt1['Y'].value_counts()\n",
    "print(accepted_bar_gt1)\n",
    "print('Proportion of bar coupons that were accepted for those who went to a bar more than once a month and are over the age of 25:', accepted_bar_gt1[1]/(accepted_bar_gt1[0] + accepted_bar_gt1[1]))\n",
    "\n",
    "\n"
   ]
  },
  {
   "cell_type": "markdown",
   "metadata": {},
   "source": [
    "5. Use the same process to compare the acceptance rate between drivers who go to bars more than once a month and had passengers that were not a kid and had occupations other than farming, fishing, or forestry. \n"
   ]
  },
  {
   "cell_type": "code",
   "execution_count": 78,
   "metadata": {
    "ExecuteTime": {
     "end_time": "2024-03-17T10:02:58.514009Z",
     "start_time": "2024-03-17T10:02:58.506839Z"
    }
   },
   "outputs": [
    {
     "name": "stdout",
     "output_type": "stream",
     "text": [
      "Y\n",
      "1    410\n",
      "0    186\n",
      "Name: count, dtype: int64\n",
      "Proportion of bar coupons that were accepted for those who went to a bar more than once a month and had passengers that were not a kid and had occupations other than farming, fishing, or forestry: 0.6879194630872483\n"
     ]
    }
   ],
   "source": [
    "# Compare the acceptance rate between drivers who go to bars more than once a month and had passengers that were not a kid and had occupations other than farming, fishing, or forestry\n",
    "# Coupons Accepted for those who went to a bar more than once a month and had passengers that were not a kid and had occupations other than farming, fishing, or forestry\n",
    "bar_coupons_gt1_occupations = bar_coupons[(bar_coupons['Bar'] > 1) & (bar_coupons['passanger'] != 'kid') & (bar_coupons['occupation'] != 'farming-fishing-forestry')]\n",
    "accepted_bar_gt1_occupations = bar_coupons_gt1_occupations['Y'].value_counts()\n",
    "print(accepted_bar_gt1_occupations)\n",
    "print('Proportion of bar coupons that were accepted for those who went to a bar more than once a month and had passengers that were not a kid and had occupations other than farming, fishing, or forestry:', accepted_bar_gt1_occupations[1]/(accepted_bar_gt1_occupations[0] + accepted_bar_gt1_occupations[1]))"
   ]
  },
  {
   "cell_type": "markdown",
   "metadata": {},
   "source": [
    "6. Compare the acceptance rates between those drivers who:\n",
    "\n",
    "- go to bars more than once a month, had passengers that were not a kid, and were not widowed *OR*\n",
    "- go to bars more than once a month and are under the age of 30 *OR*\n",
    "- go to cheap restaurants more than 4 times a month and income is less than 50K. \n",
    "\n"
   ]
  },
  {
   "cell_type": "code",
   "execution_count": 101,
   "metadata": {
    "ExecuteTime": {
     "end_time": "2024-03-17T10:43:23.560728Z",
     "start_time": "2024-03-17T10:43:23.535959Z"
    }
   },
   "outputs": [
    {
     "name": "stdout",
     "output_type": "stream",
     "text": [
      "Y\n",
      "1    410\n",
      "0    186\n",
      "Name: count, dtype: int64\n",
      "Proportion of bar coupons that were accepted for those who went to a bar more than once a month, had passengers that were not a kid, and were not widowed: 0.6879194630872483\n",
      "Y\n",
      "1    249\n",
      "0     96\n",
      "Name: count, dtype: int64\n",
      "Proportion of bar coupons that were accepted for those who went to a bar more than once a month and are under the age of 30: 0.7217391304347827\n",
      "coupon\n",
      "Restaurant(<20)    2786\n",
      "Name: count, dtype: int64\n",
      "['4~8' '1~3' 'less1' 'gt8' 'never']\n",
      "['$37500 - $49999' '$62500 - $74999' '$12500 - $24999' '$75000 - $87499'\n",
      " '$50000 - $62499' '$25000 - $37499' '$100000 or More' '$87500 - $99999'\n",
      " 'Less than $12500']\n",
      "Y\n",
      "1    110\n",
      "0     40\n",
      "Name: count, dtype: int64\n",
      "Proportion of cheap restaurants coupons that were accepted for those who went to cheap restaurants more than 4 times a month and income is less than 50K: 0.7333333333333333\n"
     ]
    }
   ],
   "source": [
    "\n",
    "bar_coupons_gt1_occupations_not_widowed = bar_coupons[(bar_coupons['Bar'] > 1) & (bar_coupons['passanger'] != 'kid') & (bar_coupons['maritalStatus'] != 'widowed')]\n",
    "accepted_bar_gt1_occupations_not_widowed = bar_coupons_gt1_occupations_not_widowed['Y'].value_counts()\n",
    "print(accepted_bar_gt1_occupations_not_widowed)\n",
    "print('Proportion of bar coupons that were accepted for those who went to a bar more than once a month, had passengers that were not a kid, and were not widowed:', accepted_bar_gt1_occupations_not_widowed[1]/(accepted_bar_gt1_occupations_not_widowed[0] + accepted_bar_gt1_occupations_not_widowed[1]))\n",
    "\n",
    "\n",
    "bar_coupons_gt1_age_lt30 = bar_coupons[(bar_coupons['Bar'] > 1) & (bar_coupons['age'] < 30)]\n",
    "accepted_bar_gt1_age_lt30 = bar_coupons_gt1_age_lt30['Y'].value_counts()\n",
    "print(accepted_bar_gt1_age_lt30)\n",
    "print('Proportion of bar coupons that were accepted for those who went to a bar more than once a month and are under the age of 30:', accepted_bar_gt1_age_lt30[1]/(accepted_bar_gt1_age_lt30[0] + accepted_bar_gt1_age_lt30[1]))\n",
    "\n",
    "\n",
    "cheap_restaurants = data[data['coupon'] == 'Restaurant(<20)']\n",
    "cheap_restaurants_value_count = cheap_restaurants['coupon'].value_counts()\n",
    "print(cheap_restaurants_value_count)\n",
    "\n",
    "print(cheap_restaurants['RestaurantLessThan20'].unique())\n",
    "\n",
    "print(cheap_restaurants['income'].unique())\n",
    "\n",
    "\n",
    "cheap_restaurants.loc[cheap_restaurants['RestaurantLessThan20'] == 'never', 'RestaurantLessThan20'] = -1\n",
    "cheap_restaurants.loc[cheap_restaurants['RestaurantLessThan20'] == 'less1', 'RestaurantLessThan20'] = 1\n",
    "cheap_restaurants.loc[cheap_restaurants['RestaurantLessThan20'] == '1~3', 'RestaurantLessThan20'] = 3\n",
    "cheap_restaurants.loc[cheap_restaurants['RestaurantLessThan20'] == '4~8', 'RestaurantLessThan20'] = 4\n",
    "cheap_restaurants.loc[cheap_restaurants['RestaurantLessThan20'] == 'gt8', 'RestaurantLessThan20'] = 8\n",
    "\n",
    "\n",
    "cheap_restaurants.loc[cheap_restaurants['income'] == 'Less than $12500', 'income'] = 12500\n",
    "cheap_restaurants.loc[cheap_restaurants['income'] == '$12500 - $24999', 'income'] = 24999\n",
    "cheap_restaurants.loc[cheap_restaurants['income'] == '$25000 - $37499', 'income'] = 37499\n",
    "cheap_restaurants.loc[cheap_restaurants['income'] == '$37500 - $49999', 'income'] = 49999\n",
    "cheap_restaurants.loc[cheap_restaurants['income'] == '$50000 - $62499', 'income'] = 62499\n",
    "cheap_restaurants.loc[cheap_restaurants['income'] == '$62500 - $74999', 'income'] = 74999\n",
    "cheap_restaurants.loc[cheap_restaurants['income'] == '$75000 - $87499', 'income'] = 87499\n",
    "cheap_restaurants.loc[cheap_restaurants['income'] == '$87500 - $99999', 'income'] = 99999\n",
    "cheap_restaurants.loc[cheap_restaurants['income'] == '$100000 or More', 'income'] = 100000\n",
    "\n",
    "\n",
    "\n",
    "cheap_restaurants_gt4_income_lt50k = cheap_restaurants[(cheap_restaurants['RestaurantLessThan20'] > 4) & (cheap_restaurants['income'] < 50000)]\n",
    "accepted_cheap_restaurants_gt4_income_lt50k = cheap_restaurants_gt4_income_lt50k['Y'].value_counts()\n",
    "print(accepted_cheap_restaurants_gt4_income_lt50k)\n",
    "print('Proportion of cheap restaurants coupons that were accepted for those who went to cheap restaurants more than 4 times a month and income is less than 50K:', accepted_cheap_restaurants_gt4_income_lt50k[1]/(accepted_cheap_restaurants_gt4_income_lt50k[0] + accepted_cheap_restaurants_gt4_income_lt50k[1]))\n",
    "\n",
    "\n"
   ]
  },
  {
   "cell_type": "markdown",
   "metadata": {},
   "source": [
    "7.  Based on these observations, what do you hypothesize about drivers who accepted the bar coupons?"
   ]
  },
  {
   "cell_type": "code",
   "execution_count": 100,
   "metadata": {
    "ExecuteTime": {
     "end_time": "2024-03-17T10:42:30.447106Z",
     "start_time": "2024-03-17T10:42:30.444913Z"
    }
   },
   "outputs": [],
   "source": [
    "\n"
   ]
  },
  {
   "cell_type": "markdown",
   "metadata": {},
   "source": [
    "### Independent Investigation\n",
    "\n",
    "Using the bar coupon example as motivation, you are to explore one of the other coupon groups and try to determine the characteristics of passengers who accept the coupons.  "
   ]
  },
  {
   "cell_type": "code",
   "execution_count": 24,
   "metadata": {
    "ExecuteTime": {
     "end_time": "2024-03-06T00:12:05.709736Z",
     "start_time": "2024-03-06T00:12:05.707100Z"
    }
   },
   "outputs": [],
   "source": []
  },
  {
   "cell_type": "code",
   "execution_count": 24,
   "metadata": {
    "ExecuteTime": {
     "end_time": "2024-03-06T00:12:05.716331Z",
     "start_time": "2024-03-06T00:12:05.713745Z"
    }
   },
   "outputs": [],
   "source": []
  },
  {
   "cell_type": "code",
   "execution_count": 24,
   "metadata": {
    "ExecuteTime": {
     "end_time": "2024-03-06T00:12:05.753857Z",
     "start_time": "2024-03-06T00:12:05.750348Z"
    }
   },
   "outputs": [],
   "source": []
  },
  {
   "cell_type": "code",
   "execution_count": 24,
   "metadata": {
    "ExecuteTime": {
     "end_time": "2024-03-06T00:12:05.759657Z",
     "start_time": "2024-03-06T00:12:05.756868Z"
    }
   },
   "outputs": [],
   "source": []
  },
  {
   "cell_type": "code",
   "execution_count": 24,
   "metadata": {
    "ExecuteTime": {
     "end_time": "2024-03-06T00:12:05.764750Z",
     "start_time": "2024-03-06T00:12:05.760665Z"
    }
   },
   "outputs": [],
   "source": []
  }
 ],
 "metadata": {
  "kernelspec": {
   "display_name": "Python 3",
   "language": "python",
   "name": "python3"
  },
  "language_info": {
   "codemirror_mode": {
    "name": "ipython",
    "version": 3
   },
   "file_extension": ".py",
   "mimetype": "text/x-python",
   "name": "python",
   "nbconvert_exporter": "python",
   "pygments_lexer": "ipython3",
   "version": "3.8.8"
  },
  "widgets": {
   "application/vnd.jupyter.widget-state+json": {
    "state": {},
    "version_major": 2,
    "version_minor": 0
   }
  }
 },
 "nbformat": 4,
 "nbformat_minor": 4
}
